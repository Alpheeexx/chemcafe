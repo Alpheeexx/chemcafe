{
 "cells": [
  {
   "cell_type": "markdown",
   "metadata": {},
   "source": [
    "# Numpy\n",
    "\n",
    "These exercises are designed to introduce NumPy, the fundamental package for scientific computing with Python. It includes tools for working with N-dimensional arrays, and common numeric computing tools.\n",
    "\n",
    "This notebook is adapted from [the NumPy quickstart tutorial](https://numpy.org/devdocs/user/quickstart.html)\n"
   ]
  },
  {
   "cell_type": "code",
   "execution_count": null,
   "metadata": {},
   "outputs": [],
   "source": [
    "import numpy as np\n"
   ]
  },
  {
   "cell_type": "markdown",
   "metadata": {},
   "source": [
    "## Introduction & Basics\n",
    "\n",
    "NumPy’s main object is the **homogeneous multidimensional array** - the `ndarray`. It is a table of elements (usually numbers), all of the same type, indexed by a tuple of non-negative integers. In NumPy dimensions are called **axes**.\n",
    "\n",
    "For example, the array for the coordinates of a point in 3D space, `[1, 2, 1]`, has one axis. That axis has 3 elements in it, so we say it has a length of 3. The array `a` in the example below has 2 axes: the first of length 2, and the second of length 3.\n"
   ]
  },
  {
   "cell_type": "code",
   "execution_count": null,
   "metadata": {},
   "outputs": [],
   "source": [
    "a = np.array([[1.0, 0.0, 0.0], [0.0, 1.0, 2.0]])  # create the array from a python list\n",
    "\n",
    "print(a)  # the array\n",
    "print(f\"{a.shape=}\")  # the 'shape' of the array\n",
    "print(f\"{a.ndim=}\")  # the number of dimensions, or axes\n",
    "print(f\"{a.dtype.name=}\")  # the type of the array elements\n",
    "print(f\"{a.itemsize=}\")  # the size in bytes of each array element\n",
    "print(f\"{a.size=}\")  # the total number of elements in the array\n",
    "print(f\"{type(a)=}\")  # how python identifies the type\n"
   ]
  },
  {
   "cell_type": "markdown",
   "metadata": {},
   "source": [
    "## Creating Arrays\n",
    "\n",
    "You can create arrays by calling `np.array()` on a python list or tuple, as shown in the example above. There's a few other useful ones to know of, however:\n",
    "\n",
    "- `np.zeros()` creates an array of all 0 with a specified shape\n",
    "- `np.ones()` creates an array of all 1 with a specified shape\n",
    "- `np.arange()` creates an array with a single axis, same as Python's built in `range()`\n",
    "- `np.linspace()` creates an array with a given number of elements\n"
   ]
  },
  {
   "cell_type": "code",
   "execution_count": null,
   "metadata": {},
   "outputs": [],
   "source": [
    "a1 = np.array([2, 3, 4])  # an array of type int64\n",
    "a2 = np.array([1.2, 2.3, 3.4])  # an array of type float64\n",
    "\n",
    "# you can also use the dtype= keyword argument to give it a type explicitly\n",
    "a3 = np.array([[1, 2], [3, 4]], dtype=complex)\n",
    "\n",
    "# a 3x4 matrix of zeros\n",
    "zero = np.zeros((3, 4))\n",
    "\n",
    "# a 2x3x4 array (3-d array) of ones\n",
    "ones = np.ones((2, 3, 4))\n",
    "\n",
    "# a range of numbers between 10 and 30 with a step size of 5\n",
    "fives = np.arange(10, 30, 5)\n",
    "\n",
    "# 100 numbers between 0 and 2*pi\n",
    "np.linspace(0, 2 * np.pi, 100)\n"
   ]
  },
  {
   "cell_type": "markdown",
   "metadata": {},
   "source": [
    "## Indexing, Slicing, Iterating\n",
    "\n",
    "So we have arrays, but how do we get the elements out of them or do anything with them?\n",
    "- You can **index** an array by passing some coordinates to get the element at that coordinate\n",
    "- **Slicing** an array gives you a range of elements from an array\n",
    "- Looping over an array to perform an operation on each element, or each sub-array, is called **iterating**"
   ]
  },
  {
   "cell_type": "markdown",
   "metadata": {},
   "source": [
    "### Exercise 1.1\n",
    "\n",
    "Write some code to generate the identity matrix for:\n",
    "\n",
    "- 2x2\n",
    "- 3x3\n",
    "- NxN\n"
   ]
  },
  {
   "cell_type": "code",
   "execution_count": null,
   "metadata": {},
   "outputs": [],
   "source": [
    "# your code here\n"
   ]
  },
  {
   "cell_type": "markdown",
   "metadata": {},
   "source": [
    "### Exercise 1.1\n",
    "\n",
    "Write a loop to add the two arrays `a` and `b`\n"
   ]
  },
  {
   "cell_type": "code",
   "execution_count": null,
   "metadata": {},
   "outputs": [],
   "source": [
    "a = np.arange(15).reshape(3, 5)\n",
    "b = np.ones((3, 5))\n",
    "\n",
    "# your code here\n"
   ]
  },
  {
   "cell_type": "markdown",
   "metadata": {},
   "source": [
    "### Exercise 1.3\n",
    "\n",
    "Write some code to perform matrix multiplication on the two arrays `D` and `C` (compute `CD`)\n"
   ]
  },
  {
   "cell_type": "code",
   "execution_count": null,
   "metadata": {},
   "outputs": [],
   "source": [
    "C = np.array(([5, -7, 9], [-1, 4, 3], [11, 20, -4], [0, 17, -2]))\n",
    "D = np.linspace(0,1,15).reshape(3,5)\n",
    "\n",
    "# your code here"
   ]
  },
  {
   "cell_type": "markdown",
   "metadata": {},
   "source": [
    "## Operations on Arrays\n",
    "\n",
    "Fortunately for you, all of the things you just implemented manually above are not necessary, because numpy includes them by default!\n"
   ]
  }
 ],
 "metadata": {
  "kernelspec": {
   "display_name": "Python 3.11.0 64-bit ('3.11.0')",
   "language": "python",
   "name": "python3"
  },
  "language_info": {
   "codemirror_mode": {
    "name": "ipython",
    "version": 3
   },
   "file_extension": ".py",
   "mimetype": "text/x-python",
   "name": "python",
   "nbconvert_exporter": "python",
   "pygments_lexer": "ipython3",
   "version": "3.11.0"
  },
  "orig_nbformat": 4,
  "vscode": {
   "interpreter": {
    "hash": "e22ada7a6bc7103a070aa67793e791764d9fd88218a02ebaf91e6a9f7260fcfc"
   }
  }
 },
 "nbformat": 4,
 "nbformat_minor": 2
}
